{
 "cells": [
  {
   "cell_type": "code",
   "execution_count": 1,
   "metadata": {},
   "outputs": [],
   "source": [
    "%matplotlib inline\n",
    "%config InlineBackend.figure_format = 'retina'\n",
    "\n",
    "import numpy as np\n",
    "import torch\n",
    "from torchvision import datasets, transforms\n",
    "import helper\n",
    "import matplotlib.pyplot as plt\n",
    "from torch import nn, optim\n",
    "import torch.nn.functional as F\n",
    "from collections import OrderedDict\n",
    "\n",
    "transform = transforms.Compose([transforms.ToTensor(),\n",
    "                               transforms.Normalize((0.5), (0.5)) ])\n",
    "\n",
    "trainset = datasets.MNIST('MNIST_data/', download=True, train=True, transform=transform)\n",
    "trainloader = torch.utils.data.DataLoader(trainset, batch_size=64, shuffle=True)\n",
    "\n",
    "input_size = 784\n",
    "hidden_size = [128, 64]\n",
    "output_size = 10\n",
    "\n",
    "model = nn.Sequential(OrderedDict([\n",
    "    ('fc1', nn.Linear(input_size, hidden_size[0])),\n",
    "    ('relu1', nn.ReLU()),\n",
    "    ('fc2', nn.Linear(hidden_size[0], hidden_size[1])),\n",
    "    ('relu2', nn.ReLU()),\n",
    "    ('output', nn.Linear(hidden_size[1], output_size)),\n",
    "    ('softmax', nn.Softmax(dim=1)) \n",
    "]))"
   ]
  },
  {
   "cell_type": "code",
   "execution_count": 4,
   "metadata": {},
   "outputs": [
    {
     "name": "stdout",
     "output_type": "stream",
     "text": [
      "Before  Parameter containing:\n",
      "tensor([[-0.0331, -0.0077,  0.0099,  ...,  0.0333, -0.0076, -0.0044],\n",
      "        [-0.0269,  0.0005, -0.0016,  ...,  0.0335, -0.0160, -0.0019],\n",
      "        [ 0.0311,  0.0073, -0.0064,  ..., -0.0276, -0.0079, -0.0327],\n",
      "        ...,\n",
      "        [ 0.0314,  0.0341,  0.0145,  ..., -0.0276,  0.0254, -0.0074],\n",
      "        [ 0.0287,  0.0218, -0.0033,  ...,  0.0287, -0.0207,  0.0237],\n",
      "        [ 0.0027, -0.0003, -0.0326,  ..., -0.0011, -0.0002,  0.0319]],\n",
      "       requires_grad=True)\n"
     ]
    }
   ],
   "source": [
    "criterion = nn.CrossEntropyLoss()\n",
    "optimizer = optim.SGD(model.parameters(), lr=0.01)\n",
    "print('Before ', model.fc1.weight)"
   ]
  },
  {
   "cell_type": "code",
   "execution_count": 5,
   "metadata": {},
   "outputs": [
    {
     "name": "stdout",
     "output_type": "stream",
     "text": [
      "Gradient  tensor([[-9.1989e-05, -9.1989e-05, -9.1989e-05,  ..., -9.1989e-05,\n",
      "         -9.1989e-05, -9.1989e-05],\n",
      "        [-9.7096e-05, -9.7096e-05, -9.7096e-05,  ..., -9.7096e-05,\n",
      "         -9.7096e-05, -9.7096e-05],\n",
      "        [-3.5609e-05, -3.5609e-05, -3.5609e-05,  ..., -3.5609e-05,\n",
      "         -3.5609e-05, -3.5609e-05],\n",
      "        ...,\n",
      "        [-1.8508e-05, -1.8508e-05, -1.8508e-05,  ..., -1.8508e-05,\n",
      "         -1.8508e-05, -1.8508e-05],\n",
      "        [ 8.7466e-05,  8.7466e-05,  8.7466e-05,  ...,  8.7466e-05,\n",
      "          8.7466e-05,  8.7466e-05],\n",
      "        [ 7.0942e-06,  7.0942e-06,  7.0942e-06,  ...,  7.0942e-06,\n",
      "          7.0942e-06,  7.0942e-06]])\n"
     ]
    }
   ],
   "source": [
    "images, labels = next(iter(trainloader))\n",
    "images.resize_(64, 784)\n",
    "\n",
    "optimizer.zero_grad()\n",
    "\n",
    "# Forward pass\n",
    "output = model.forward(images)\n",
    "loss = criterion(output, labels)\n",
    "loss.backward()\n",
    "print('Gradient ', model.fc1.weight.grad)\n",
    "optimizer.step()"
   ]
  },
  {
   "cell_type": "code",
   "execution_count": 6,
   "metadata": {},
   "outputs": [
    {
     "name": "stdout",
     "output_type": "stream",
     "text": [
      "Updated weights - Parameter containing:\n",
      "tensor([[-0.0331, -0.0077,  0.0099,  ...,  0.0333, -0.0076, -0.0044],\n",
      "        [-0.0269,  0.0005, -0.0016,  ...,  0.0335, -0.0160, -0.0019],\n",
      "        [ 0.0311,  0.0073, -0.0064,  ..., -0.0276, -0.0079, -0.0327],\n",
      "        ...,\n",
      "        [ 0.0314,  0.0341,  0.0145,  ..., -0.0276,  0.0254, -0.0074],\n",
      "        [ 0.0287,  0.0218, -0.0033,  ...,  0.0287, -0.0207,  0.0237],\n",
      "        [ 0.0027, -0.0003, -0.0326,  ..., -0.0011, -0.0002,  0.0319]],\n",
      "       requires_grad=True)\n"
     ]
    }
   ],
   "source": [
    "print('Updated weights -', model.fc1.weight)"
   ]
  },
  {
   "cell_type": "code",
   "execution_count": null,
   "metadata": {},
   "outputs": [],
   "source": []
  }
 ],
 "metadata": {
  "kernelspec": {
   "display_name": "Python 3",
   "language": "python",
   "name": "python3"
  },
  "language_info": {
   "codemirror_mode": {
    "name": "ipython",
    "version": 3
   },
   "file_extension": ".py",
   "mimetype": "text/x-python",
   "name": "python",
   "nbconvert_exporter": "python",
   "pygments_lexer": "ipython3",
   "version": "3.8.3"
  }
 },
 "nbformat": 4,
 "nbformat_minor": 4
}
