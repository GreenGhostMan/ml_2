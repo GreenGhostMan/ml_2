{
 "cells": [
  {
   "cell_type": "code",
   "execution_count": 12,
   "metadata": {},
   "outputs": [],
   "source": [
    "%matplotlib inline\n",
    "%config InlineBackend.figure_format = 'retina'\n",
    "\n",
    "import torch\n",
    "from torchvision import datasets, transforms\n",
    "import helper\n",
    "from torch import nn, optim\n",
    "import torch.nn.functional as F\n",
    "\n",
    "# Define a transform to normalize the data\n",
    "transform = transforms.Compose([transforms.ToTensor(),\n",
    "                                transforms.Normalize((0.5,), (0.5,))])\n",
    "# Download and load the training data\n",
    "trainset = datasets.FashionMNIST('~/.pytorch/F_MNIST_data/', download=True, train=True, transform=transform)\n",
    "trainloader = torch.utils.data.DataLoader(trainset, batch_size=64, shuffle=True)\n",
    "\n",
    "# Download and load the test data\n",
    "testset = datasets.FashionMNIST('~/.pytorch/F_MNIST_data/', download=True, train=False, transform=transform)\n",
    "testloader = torch.utils.data.DataLoader(testset, batch_size=64, shuffle=True)"
   ]
  },
  {
   "cell_type": "code",
   "execution_count": 13,
   "metadata": {},
   "outputs": [],
   "source": [
    "# TODO: Define your network architecture here\n",
    "class Network(nn.Module):\n",
    "    def __init__(self, input_size, output_size, hidden_layers, drop_p=0.5):\n",
    "        \"\"\"Builds a feedforward network with arbitrary hidden layers\n",
    "        \n",
    "        Arguments\n",
    "        ---------\n",
    "        input_size: integer, size of input\n",
    "        output_size: integer, size of output layer\n",
    "        hidden_layers: list of integers, the sizes of the hidden layers\n",
    "        drop_p: float between 0 and 1, dropout probability\n",
    "        \"\"\"\n",
    "        super().__init__()\n",
    "        \n",
    "        # Add the first layer, input to a hidden layer\n",
    "        self.hidden_layers = nn.ModuleList([nn.Linear(input_size, hidden_layers[0])])\n",
    "        \n",
    "        # Add a variable number of more hidden layers\n",
    "        layer_sizes = zip(hidden_layers[:-1], hidden_layers[1:])\n",
    "        self.hidden_layers.extend([nn.Linear(h1, h2) for h1, h2 in layer_sizes])\n",
    "        \n",
    "        self.output = nn.Linear(hidden_layers[-1], output_size)\n",
    "        \n",
    "        self.dropout= nn.Dropout(p=drop_p)\n",
    "        \n",
    "    def forward(self, x):\n",
    "        \"\"\"Forward pass through the network, returns the output logits \"\"\"\n",
    "        \n",
    "        # Forward throught each layer in `hidden_layers`, with ReLU activation and dropout\n",
    "        for linear in self.hidden_layers:\n",
    "            x = F.relu(linear(x))\n",
    "            x = self.dropout(x)\n",
    "        x = self.output(x)\n",
    "        \n",
    "        return F.log_softmax(x, dim=1)"
   ]
  },
  {
   "cell_type": "code",
   "execution_count": 14,
   "metadata": {},
   "outputs": [],
   "source": [
    "# TODO: Create the network, define the criterion and optimizer\n",
    "model = Network(784, 10, [516, 256], drop_p=0.5)\n",
    "criterion = nn.NLLLoss()\n",
    "optimizer = optim.Adam(model.parameters(), lr=0.001)"
   ]
  },
  {
   "cell_type": "code",
   "execution_count": 15,
   "metadata": {},
   "outputs": [],
   "source": [
    "def validation(model, testloader, criterion):    \n",
    "    test_loss = 0\n",
    "    accuracy = 0\n",
    "    for images, labels in testloader:       \n",
    "\n",
    "        images.resize_(images.shape[0], 784)\n",
    "\n",
    "        output = model.forward(images)\n",
    "        test_loss += criterion(output, labels).item()\n",
    "\n",
    "        ps = torch.exp(output)\n",
    "\n",
    "        equality = (labels.data == ps.max(dim=1)[1])\n",
    "        accuracy += equality.type(torch.FloatTensor).mean()\n",
    "        \n",
    "    return test_loss, accuracy"
   ]
  },
  {
   "cell_type": "code",
   "execution_count": 16,
   "metadata": {},
   "outputs": [
    {
     "name": "stdout",
     "output_type": "stream",
     "text": [
      "Epoch: 1/2..  Training Loss: 1.316..  Test Loss: 0.767..  Test Accuracy: 0.710\n",
      "Epoch: 1/2..  Training Loss: 0.802..  Test Loss: 0.683..  Test Accuracy: 0.746\n",
      "Epoch: 1/2..  Training Loss: 0.737..  Test Loss: 0.597..  Test Accuracy: 0.769\n",
      "Epoch: 1/2..  Training Loss: 0.694..  Test Loss: 0.583..  Test Accuracy: 0.780\n",
      "Epoch: 1/2..  Training Loss: 0.637..  Test Loss: 0.583..  Test Accuracy: 0.785\n",
      "Epoch: 1/2..  Training Loss: 0.656..  Test Loss: 0.534..  Test Accuracy: 0.802\n",
      "Epoch: 1/2..  Training Loss: 0.615..  Test Loss: 0.541..  Test Accuracy: 0.794\n",
      "Epoch: 1/2..  Training Loss: 0.589..  Test Loss: 0.517..  Test Accuracy: 0.813\n",
      "Epoch: 1/2..  Training Loss: 0.587..  Test Loss: 0.525..  Test Accuracy: 0.807\n",
      "Epoch: 1/2..  Training Loss: 0.614..  Test Loss: 0.494..  Test Accuracy: 0.820\n",
      "Epoch: 1/2..  Training Loss: 0.540..  Test Loss: 0.525..  Test Accuracy: 0.798\n",
      "Epoch: 1/2..  Training Loss: 0.541..  Test Loss: 0.499..  Test Accuracy: 0.813\n",
      "Epoch: 1/2..  Training Loss: 0.571..  Test Loss: 0.513..  Test Accuracy: 0.812\n",
      "Epoch: 1/2..  Training Loss: 0.560..  Test Loss: 0.486..  Test Accuracy: 0.825\n",
      "Epoch: 1/2..  Training Loss: 0.543..  Test Loss: 0.474..  Test Accuracy: 0.826\n",
      "Epoch: 1/2..  Training Loss: 0.553..  Test Loss: 0.491..  Test Accuracy: 0.815\n",
      "Epoch: 1/2..  Training Loss: 0.580..  Test Loss: 0.479..  Test Accuracy: 0.819\n",
      "Epoch: 1/2..  Training Loss: 0.512..  Test Loss: 0.464..  Test Accuracy: 0.828\n",
      "Epoch: 1/2..  Training Loss: 0.518..  Test Loss: 0.460..  Test Accuracy: 0.829\n",
      "Epoch: 1/2..  Training Loss: 0.510..  Test Loss: 0.456..  Test Accuracy: 0.833\n",
      "Epoch: 1/2..  Training Loss: 0.545..  Test Loss: 0.457..  Test Accuracy: 0.828\n",
      "Epoch: 1/2..  Training Loss: 0.512..  Test Loss: 0.482..  Test Accuracy: 0.821\n",
      "Epoch: 1/2..  Training Loss: 0.507..  Test Loss: 0.464..  Test Accuracy: 0.833\n",
      "Epoch: 2/2..  Training Loss: 0.526..  Test Loss: 0.455..  Test Accuracy: 0.835\n",
      "Epoch: 2/2..  Training Loss: 0.503..  Test Loss: 0.452..  Test Accuracy: 0.834\n",
      "Epoch: 2/2..  Training Loss: 0.496..  Test Loss: 0.451..  Test Accuracy: 0.838\n",
      "Epoch: 2/2..  Training Loss: 0.486..  Test Loss: 0.444..  Test Accuracy: 0.835\n",
      "Epoch: 2/2..  Training Loss: 0.484..  Test Loss: 0.457..  Test Accuracy: 0.833\n",
      "Epoch: 2/2..  Training Loss: 0.473..  Test Loss: 0.438..  Test Accuracy: 0.840\n",
      "Epoch: 2/2..  Training Loss: 0.514..  Test Loss: 0.447..  Test Accuracy: 0.837\n",
      "Epoch: 2/2..  Training Loss: 0.489..  Test Loss: 0.448..  Test Accuracy: 0.834\n",
      "Epoch: 2/2..  Training Loss: 0.476..  Test Loss: 0.442..  Test Accuracy: 0.842\n",
      "Epoch: 2/2..  Training Loss: 0.485..  Test Loss: 0.438..  Test Accuracy: 0.838\n",
      "Epoch: 2/2..  Training Loss: 0.485..  Test Loss: 0.458..  Test Accuracy: 0.832\n",
      "Epoch: 2/2..  Training Loss: 0.511..  Test Loss: 0.465..  Test Accuracy: 0.828\n",
      "Epoch: 2/2..  Training Loss: 0.463..  Test Loss: 0.425..  Test Accuracy: 0.847\n",
      "Epoch: 2/2..  Training Loss: 0.468..  Test Loss: 0.445..  Test Accuracy: 0.840\n",
      "Epoch: 2/2..  Training Loss: 0.496..  Test Loss: 0.436..  Test Accuracy: 0.839\n",
      "Epoch: 2/2..  Training Loss: 0.497..  Test Loss: 0.425..  Test Accuracy: 0.846\n",
      "Epoch: 2/2..  Training Loss: 0.463..  Test Loss: 0.432..  Test Accuracy: 0.845\n",
      "Epoch: 2/2..  Training Loss: 0.469..  Test Loss: 0.429..  Test Accuracy: 0.848\n",
      "Epoch: 2/2..  Training Loss: 0.453..  Test Loss: 0.424..  Test Accuracy: 0.845\n",
      "Epoch: 2/2..  Training Loss: 0.483..  Test Loss: 0.425..  Test Accuracy: 0.850\n",
      "Epoch: 2/2..  Training Loss: 0.473..  Test Loss: 0.409..  Test Accuracy: 0.850\n",
      "Epoch: 2/2..  Training Loss: 0.453..  Test Loss: 0.417..  Test Accuracy: 0.846\n",
      "Epoch: 2/2..  Training Loss: 0.476..  Test Loss: 0.414..  Test Accuracy: 0.845\n"
     ]
    }
   ],
   "source": [
    "# TODO: Train the network here\n",
    "epochs = 2\n",
    "steps = 0\n",
    "running_loss = 0\n",
    "print_every = 40\n",
    "\n",
    "for e in range(epochs):\n",
    "    model.train()\n",
    "    for images, labels in trainloader:\n",
    "        steps +=1\n",
    "        \n",
    "        # Flatten images into a 784 long vector\n",
    "        images.resize_(images.size()[0], 784)\n",
    "        \n",
    "        optimizer.zero_grad()\n",
    "        \n",
    "        output = model.forward(images)\n",
    "        loss = criterion(output, labels)\n",
    "        loss.backward()\n",
    "        optimizer.step()\n",
    "        \n",
    "        running_loss += loss.item()\n",
    "        \n",
    "        if steps % print_every == 0:\n",
    "            \n",
    "            model.eval()\n",
    "            \n",
    "            with torch.no_grad():\n",
    "                test_loss, accuracy = validation(model, testloader, criterion)\n",
    "                \n",
    "            print(\"Epoch: {}/{}.. \".format(e+1, epochs),\n",
    "                 \"Training Loss: {:.3f}.. \".format(running_loss/print_every),\n",
    "                 \"Test Loss: {:.3f}.. \".format(test_loss/len(testloader)),\n",
    "                 \"Test Accuracy: {:.3f}\".format(accuracy/len(testloader)))\n",
    "            \n",
    "            running_loss = 0\n",
    "            \n",
    "            model.train()            \n",
    "        "
   ]
  },
  {
   "cell_type": "code",
   "execution_count": 21,
   "metadata": {},
   "outputs": [
    {
     "data": {
      "image/png": "[encoded data removed]",
      "text/plain": [
       "<Figure size 432x648 with 2 Axes>"
      ]
     },
     "metadata": {
      "image/png": {
       "height": 216,
       "width": 424
      },
      "needs_background": "light"
     },
     "output_type": "display_data"
    }
   ],
   "source": [
    "# Test out your network!\n",
    "\n",
    "model.eval()\n",
    "\n",
    "dataiter = iter(testloader)\n",
    "images, labels = dataiter.next()\n",
    "img = images[0]\n",
    "\n",
    "# Convert 2D image to 1D Vector\n",
    "img = img.view(1, 784)\n",
    "\n",
    "# Calculate the class probablities (softmax) for img\n",
    "with torch.no_grad():\n",
    "    output = model.forward(img)\n",
    "    \n",
    "ps = torch.exp(output)\n",
    "\n",
    "# Plot the image and probabilities\n",
    "helper.view_classify(image.view(1, 28, 28), ps, version='Fashion')"
   ]
  },
  {
   "cell_type": "code",
   "execution_count": null,
   "metadata": {},
   "outputs": [],
   "source": []
  },
  {
   "cell_type": "code",
   "execution_count": null,
   "metadata": {},
   "outputs": [],
   "source": []
  },
  {
   "cell_type": "code",
   "execution_count": null,
   "metadata": {},
   "outputs": [],
   "source": []
  },
  {
   "cell_type": "code",
   "execution_count": null,
   "metadata": {},
   "outputs": [],
   "source": []
  },
  {
   "cell_type": "code",
   "execution_count": null,
   "metadata": {},
   "outputs": [],
   "source": []
  },
  {
   "cell_type": "code",
   "execution_count": null,
   "metadata": {},
   "outputs": [],
   "source": []
  }
 ],
 "metadata": {
  "kernelspec": {
   "display_name": "Python 3",
   "language": "python",
   "name": "python3"
  },
  "language_info": {
   "codemirror_mode": {
    "name": "ipython",
    "version": 3
   },
   "file_extension": ".py",
   "mimetype": "text/x-python",
   "name": "python",
   "nbconvert_exporter": "python",
   "pygments_lexer": "ipython3",
   "version": "3.8.3"
  }
 },
 "nbformat": 4,
 "nbformat_minor": 2
}
