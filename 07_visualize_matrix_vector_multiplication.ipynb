{
 "cells": [
  {
   "cell_type": "code",
   "execution_count": 10,
   "metadata": {},
   "outputs": [
    {
     "data": {
      "image/png": "[encoded data removed]",
      "text/plain": [
       "<Figure size 432x288 with 1 Axes>"
      ]
     },
     "metadata": {
      "needs_background": "light"
     },
     "output_type": "display_data"
    }
   ],
   "source": [
    "import numpy as np\n",
    "import matplotlib.pyplot as plt\n",
    "\n",
    "v = np.array([-1,2])\n",
    "\n",
    "ihat_t = np.array([3,1])\n",
    "jhat_t = np.array([1,2])\n",
    "\n",
    "v_ihat_t = v[0] * ihat_t\n",
    "v_jhat_t = v[1] * jhat_t\n",
    "\n",
    "v_t = v_ihat_t + v_jhat_t\n",
    "\n",
    "ax = plt.axes()\n",
    "ax.plot(0,0,'or')\n",
    "\n",
    "ax.arrow(0,0,*v_ihat_t, color='g', linestyle='dotted', linewidth=2.5, head_width=0.30,head_length=0.2)\n",
    "\n",
    "ax.arrow(v_ihat_t[0],v_ihat_t[1],*v_jhat_t, color='r', linestyle='dotted', linewidth=2.5, head_width=0.30,head_length=0.2)\n",
    "\n",
    "ax.arrow(0,0,*v, color='skyblue', linewidth=2.5, head_width=0.30,head_length=0.2)\n",
    "\n",
    "ax.arrow(0,0,*v_t, color='b', linewidth=2.5, head_width=0.30,head_length=0.2)\n",
    "\n",
    "plt.xlim(-4,2)\n",
    "plt.ylim(-2,4)\n",
    "plt.show()\n"
   ]
  },
  {
   "cell_type": "code",
   "execution_count": null,
   "metadata": {},
   "outputs": [],
   "source": []
  },
  {
   "cell_type": "code",
   "execution_count": null,
   "metadata": {},
   "outputs": [],
   "source": []
  },
  {
   "cell_type": "code",
   "execution_count": null,
   "metadata": {},
   "outputs": [],
   "source": []
  },
  {
   "cell_type": "code",
   "execution_count": null,
   "metadata": {},
   "outputs": [],
   "source": []
  },
  {
   "cell_type": "code",
   "execution_count": null,
   "metadata": {},
   "outputs": [],
   "source": []
  },
  {
   "cell_type": "code",
   "execution_count": null,
   "metadata": {},
   "outputs": [],
   "source": []
  },
  {
   "cell_type": "code",
   "execution_count": null,
   "metadata": {},
   "outputs": [],
   "source": []
  },
  {
   "cell_type": "code",
   "execution_count": null,
   "metadata": {},
   "outputs": [],
   "source": []
  },
  {
   "cell_type": "code",
   "execution_count": null,
   "metadata": {},
   "outputs": [],
   "source": []
  },
  {
   "cell_type": "code",
   "execution_count": null,
   "metadata": {},
   "outputs": [],
   "source": []
  }
 ],
 "metadata": {
  "kernelspec": {
   "display_name": "Python 3",
   "language": "python",
   "name": "python3"
  },
  "language_info": {
   "codemirror_mode": {
    "name": "ipython",
    "version": 3
   },
   "file_extension": ".py",
   "mimetype": "text/x-python",
   "name": "python",
   "nbconvert_exporter": "python",
   "pygments_lexer": "ipython3",
   "version": "3.8.3"
  }
 },
 "nbformat": 4,
 "nbformat_minor": 4
}
