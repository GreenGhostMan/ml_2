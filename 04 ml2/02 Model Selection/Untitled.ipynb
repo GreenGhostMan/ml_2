{
 "cells": [
  {
   "cell_type": "code",
   "execution_count": 10,
   "metadata": {},
   "outputs": [
    {
     "data": {
      "text/plain": [
       "array([-1.,  1.,  1.,  1., -1., -1.,  1., -1.,  1.,  1.,  1.,  1., -1.,\n",
       "        1., -1., -1.,  1., -1.,  1.,  1.,  1., -1.,  1., -1., -1., -1.,\n",
       "       -1., -1.,  1., -1.,  1.,  1.,  1.,  1.,  1.,  1., -1.,  1., -1.,\n",
       "       -1., -1., -1., -1., -1., -1., -1., -1., -1., -1.,  1.,  1., -1.,\n",
       "       -1.,  1.,  1., -1., -1., -1.,  1.,  1.,  1.,  1.,  1.,  1., -1.,\n",
       "        1., -1., -1., -1.,  1., -1., -1.,  1.,  1.,  1., -1., -1.,  1.,\n",
       "       -1.,  1.,  1.,  1., -1.,  1.,  1.,  1.,  1., -1., -1.,  1., -1.,\n",
       "       -1., -1.,  1.,  1., -1., -1.,  1.,  1.,  1.])"
      ]
     },
     "execution_count": 10,
     "metadata": {},
     "output_type": "execute_result"
    }
   ],
   "source": [
    "import pandas as pd\n",
    "data = pd.read_csv('data.csv')\n",
    "import numpy as np\n",
    "np.random.seed(55)\n",
    "\n",
    "X = np.array(data[['x1','x2']])\n",
    "y = np.array(data['y'])\n",
    "y"
   ]
  },
  {
   "cell_type": "code",
   "execution_count": 24,
   "metadata": {},
   "outputs": [
    {
     "data": {
      "text/plain": [
       "array([60, 66, 53, 29, 35, 44, 47, 28, 65, 64, 75, 30, 20, 61, 11, 74, 12,\n",
       "       97, 26, 63, 81, 68, 38,  6, 99, 34, 25, 57,  3, 56,  0, 78, 45, 17,\n",
       "       96, 85, 58, 21,  9, 95, 69, 77, 43, 94, 37, 19, 98, 10, 51, 86,  2,\n",
       "       24, 32, 91, 59, 50, 72, 39, 76,  8, 15, 92, 48, 40, 88, 80,  1, 42,\n",
       "       73, 36, 49, 93, 54, 62, 67, 71, 16, 83, 31, 13,  7, 84, 52, 82, 87,\n",
       "       18, 22, 55,  5, 33, 27, 14,  4, 79, 46, 89, 41, 23, 90, 70])"
      ]
     },
     "execution_count": 24,
     "metadata": {},
     "output_type": "execute_result"
    }
   ],
   "source": [
    "permu = np.random.permutation(100)\n",
    "permu"
   ]
  },
  {
   "cell_type": "code",
   "execution_count": 46,
   "metadata": {},
   "outputs": [
    {
     "data": {
      "text/plain": [
       "array([60, 66, 53, 29, 35, 44, 47, 28, 65, 64, 75, 30, 20, 61, 11, 74, 12,\n",
       "       97, 26, 63, 81, 68, 38,  6, 99, 34, 25, 57,  3, 56,  0, 78, 45, 17,\n",
       "       96, 85, 58, 21,  9, 95, 69, 77, 43, 94, 37, 19, 98, 10, 51, 86,  2,\n",
       "       24, 32, 91, 59, 50, 72, 39, 76,  8, 15, 92, 48, 40, 88, 80,  1, 42,\n",
       "       73, 36, 49, 93, 54, 62, 67, 71, 16, 83, 31, 13,  7, 84, 52, 82, 87,\n",
       "       18, 22, 55,  5, 33, 27, 14,  4, 79, 46, 89, 41, 23, 90, 70])"
      ]
     },
     "execution_count": 46,
     "metadata": {},
     "output_type": "execute_result"
    }
   ],
   "source": [
    "a = np.arange(100)\n",
    "b = a[permu]\n",
    "b"
   ]
  },
  {
   "cell_type": "code",
   "execution_count": null,
   "metadata": {},
   "outputs": [],
   "source": []
  },
  {
   "cell_type": "code",
   "execution_count": null,
   "metadata": {},
   "outputs": [],
   "source": []
  },
  {
   "cell_type": "code",
   "execution_count": null,
   "metadata": {},
   "outputs": [],
   "source": []
  },
  {
   "cell_type": "code",
   "execution_count": null,
   "metadata": {},
   "outputs": [],
   "source": []
  },
  {
   "cell_type": "code",
   "execution_count": null,
   "metadata": {},
   "outputs": [],
   "source": []
  },
  {
   "cell_type": "code",
   "execution_count": null,
   "metadata": {},
   "outputs": [],
   "source": []
  },
  {
   "cell_type": "code",
   "execution_count": null,
   "metadata": {},
   "outputs": [],
   "source": []
  },
  {
   "cell_type": "code",
   "execution_count": null,
   "metadata": {},
   "outputs": [],
   "source": []
  },
  {
   "cell_type": "code",
   "execution_count": null,
   "metadata": {},
   "outputs": [],
   "source": []
  },
  {
   "cell_type": "code",
   "execution_count": null,
   "metadata": {},
   "outputs": [],
   "source": []
  },
  {
   "cell_type": "code",
   "execution_count": null,
   "metadata": {},
   "outputs": [],
   "source": []
  },
  {
   "cell_type": "code",
   "execution_count": null,
   "metadata": {},
   "outputs": [],
   "source": []
  },
  {
   "cell_type": "code",
   "execution_count": null,
   "metadata": {},
   "outputs": [],
   "source": []
  },
  {
   "cell_type": "code",
   "execution_count": null,
   "metadata": {},
   "outputs": [],
   "source": []
  }
 ],
 "metadata": {
  "kernelspec": {
   "display_name": "Python 3",
   "language": "python",
   "name": "python3"
  },
  "language_info": {
   "codemirror_mode": {
    "name": "ipython",
    "version": 3
   },
   "file_extension": ".py",
   "mimetype": "text/x-python",
   "name": "python",
   "nbconvert_exporter": "python",
   "pygments_lexer": "ipython3",
   "version": "3.8.3"
  }
 },
 "nbformat": 4,
 "nbformat_minor": 4
}
