{
 "cells": [
  {
   "cell_type": "code",
   "execution_count": 1,
   "metadata": {},
   "outputs": [
    {
     "name": "stderr",
     "output_type": "stream",
     "text": [
      "<frozen importlib._bootstrap>:219: RuntimeWarning: numpy.ufunc size changed, may indicate binary incompatibility. Expected 192 from C header, got 216 from PyObject\n"
     ]
    },
    {
     "data": {
      "text/html": [
       "<div>\n",
       "<style scoped>\n",
       "    .dataframe tbody tr th:only-of-type {\n",
       "        vertical-align: middle;\n",
       "    }\n",
       "\n",
       "    .dataframe tbody tr th {\n",
       "        vertical-align: top;\n",
       "    }\n",
       "\n",
       "    .dataframe thead th {\n",
       "        text-align: right;\n",
       "    }\n",
       "</style>\n",
       "<table border=\"1\" class=\"dataframe\">\n",
       "  <thead>\n",
       "    <tr style=\"text-align: right;\">\n",
       "      <th></th>\n",
       "      <th>USD</th>\n",
       "      <th>EUR</th>\n",
       "      <th>JPY</th>\n",
       "      <th>GBP</th>\n",
       "      <th>CHF</th>\n",
       "      <th>CAD</th>\n",
       "      <th>AUD</th>\n",
       "      <th>HKD</th>\n",
       "    </tr>\n",
       "  </thead>\n",
       "  <tbody>\n",
       "    <tr>\n",
       "      <th>Amounts</th>\n",
       "      <td>70</td>\n",
       "      <td>100</td>\n",
       "      <td>20</td>\n",
       "      <td>80</td>\n",
       "      <td>40</td>\n",
       "      <td>70</td>\n",
       "      <td>60</td>\n",
       "      <td>100</td>\n",
       "    </tr>\n",
       "  </tbody>\n",
       "</table>\n",
       "</div>"
      ],
      "text/plain": [
       "         USD  EUR  JPY  GBP  CHF  CAD  AUD  HKD\n",
       "Amounts   70  100   20   80   40   70   60  100"
      ]
     },
     "execution_count": 1,
     "metadata": {},
     "output_type": "execute_result"
    }
   ],
   "source": [
    "import numpy as np\n",
    "import pandas as pd\n",
    "\n",
    "currency_label = ['USD','EUR','JPY','GBP','CHF','CAD','AUD','HKD']\n",
    "money = np.asarray([70,100,20,80,40,70,60,100])\n",
    "\n",
    "money_df = pd.DataFrame(data=money, index=currency_label, columns=[\"Amounts\"])\n",
    "money_df.T\n"
   ]
  },
  {
   "cell_type": "code",
   "execution_count": 2,
   "metadata": {},
   "outputs": [
    {
     "data": {
      "text/html": [
       "<div>\n",
       "<style scoped>\n",
       "    .dataframe tbody tr th:only-of-type {\n",
       "        vertical-align: middle;\n",
       "    }\n",
       "\n",
       "    .dataframe tbody tr th {\n",
       "        vertical-align: top;\n",
       "    }\n",
       "\n",
       "    .dataframe thead th {\n",
       "        text-align: right;\n",
       "    }\n",
       "</style>\n",
       "<table border=\"1\" class=\"dataframe\">\n",
       "  <thead>\n",
       "    <tr style=\"text-align: right;\">\n",
       "      <th></th>\n",
       "      <th>USD</th>\n",
       "      <th>EUR</th>\n",
       "      <th>JPY</th>\n",
       "      <th>GBP</th>\n",
       "      <th>CHF</th>\n",
       "      <th>CAD</th>\n",
       "      <th>AUD</th>\n",
       "      <th>HKD</th>\n",
       "    </tr>\n",
       "  </thead>\n",
       "  <tbody>\n",
       "    <tr>\n",
       "      <th>USD-To</th>\n",
       "      <td>1.0000</td>\n",
       "      <td>0.8364</td>\n",
       "      <td>111.3700</td>\n",
       "      <td>0.7404</td>\n",
       "      <td>0.9781</td>\n",
       "      <td>1.2548</td>\n",
       "      <td>1.2760</td>\n",
       "      <td>7.8218</td>\n",
       "    </tr>\n",
       "    <tr>\n",
       "      <th>EUR-To</th>\n",
       "      <td>1.1956</td>\n",
       "      <td>1.0000</td>\n",
       "      <td>133.1540</td>\n",
       "      <td>0.8852</td>\n",
       "      <td>1.1694</td>\n",
       "      <td>1.5002</td>\n",
       "      <td>1.5256</td>\n",
       "      <td>9.3517</td>\n",
       "    </tr>\n",
       "    <tr>\n",
       "      <th>JPY-To</th>\n",
       "      <td>0.0090</td>\n",
       "      <td>0.0075</td>\n",
       "      <td>1.0000</td>\n",
       "      <td>0.0066</td>\n",
       "      <td>0.0088</td>\n",
       "      <td>0.0113</td>\n",
       "      <td>0.0115</td>\n",
       "      <td>0.0702</td>\n",
       "    </tr>\n",
       "    <tr>\n",
       "      <th>GBP-To</th>\n",
       "      <td>1.3507</td>\n",
       "      <td>1.1297</td>\n",
       "      <td>150.4275</td>\n",
       "      <td>1.0000</td>\n",
       "      <td>1.3211</td>\n",
       "      <td>1.6949</td>\n",
       "      <td>1.7235</td>\n",
       "      <td>10.5649</td>\n",
       "    </tr>\n",
       "    <tr>\n",
       "      <th>CHF-To</th>\n",
       "      <td>1.0224</td>\n",
       "      <td>0.8551</td>\n",
       "      <td>113.8636</td>\n",
       "      <td>0.7569</td>\n",
       "      <td>1.0000</td>\n",
       "      <td>1.2829</td>\n",
       "      <td>1.3046</td>\n",
       "      <td>7.9969</td>\n",
       "    </tr>\n",
       "    <tr>\n",
       "      <th>CAD-To</th>\n",
       "      <td>0.7969</td>\n",
       "      <td>0.6666</td>\n",
       "      <td>88.7552</td>\n",
       "      <td>0.5900</td>\n",
       "      <td>0.7795</td>\n",
       "      <td>1.0000</td>\n",
       "      <td>1.0169</td>\n",
       "      <td>6.2335</td>\n",
       "    </tr>\n",
       "    <tr>\n",
       "      <th>AUD-To</th>\n",
       "      <td>0.7837</td>\n",
       "      <td>0.6555</td>\n",
       "      <td>87.2807</td>\n",
       "      <td>0.5802</td>\n",
       "      <td>0.7665</td>\n",
       "      <td>0.9834</td>\n",
       "      <td>1.0000</td>\n",
       "      <td>6.1299</td>\n",
       "    </tr>\n",
       "    <tr>\n",
       "      <th>HKD-To</th>\n",
       "      <td>0.1278</td>\n",
       "      <td>0.1069</td>\n",
       "      <td>14.2384</td>\n",
       "      <td>0.0947</td>\n",
       "      <td>0.1250</td>\n",
       "      <td>0.1604</td>\n",
       "      <td>0.1631</td>\n",
       "      <td>1.0000</td>\n",
       "    </tr>\n",
       "  </tbody>\n",
       "</table>\n",
       "</div>"
      ],
      "text/plain": [
       "           USD     EUR       JPY     GBP     CHF     CAD     AUD      HKD\n",
       "USD-To  1.0000  0.8364  111.3700  0.7404  0.9781  1.2548  1.2760   7.8218\n",
       "EUR-To  1.1956  1.0000  133.1540  0.8852  1.1694  1.5002  1.5256   9.3517\n",
       "JPY-To  0.0090  0.0075    1.0000  0.0066  0.0088  0.0113  0.0115   0.0702\n",
       "GBP-To  1.3507  1.1297  150.4275  1.0000  1.3211  1.6949  1.7235  10.5649\n",
       "CHF-To  1.0224  0.8551  113.8636  0.7569  1.0000  1.2829  1.3046   7.9969\n",
       "CAD-To  0.7969  0.6666   88.7552  0.5900  0.7795  1.0000  1.0169   6.2335\n",
       "AUD-To  0.7837  0.6555   87.2807  0.5802  0.7665  0.9834  1.0000   6.1299\n",
       "HKD-To  0.1278  0.1069   14.2384  0.0947  0.1250  0.1604  0.1631   1.0000"
      ]
     },
     "execution_count": 2,
     "metadata": {},
     "output_type": "execute_result"
    }
   ],
   "source": [
    "path = %pwd\n",
    "conversion_rates_df = pd.read_csv(path+\"/currencyConversionMatrix.csv\",header=0,index_col=0)\n",
    "conversion_rates_df\n"
   ]
  },
  {
   "cell_type": "code",
   "execution_count": 7,
   "metadata": {},
   "outputs": [],
   "source": [
    "conversion_rates = conversion_rates_df.values"
   ]
  },
  {
   "cell_type": "code",
   "execution_count": 9,
   "metadata": {},
   "outputs": [],
   "source": [
    "money_total = np.matmul(money, conversion_rates)"
   ]
  },
  {
   "cell_type": "code",
   "execution_count": 12,
   "metadata": {},
   "outputs": [
    {
     "data": {
      "text/html": [
       "<div>\n",
       "<style scoped>\n",
       "    .dataframe tbody tr th:only-of-type {\n",
       "        vertical-align: middle;\n",
       "    }\n",
       "\n",
       "    .dataframe tbody tr th {\n",
       "        vertical-align: top;\n",
       "    }\n",
       "\n",
       "    .dataframe thead th {\n",
       "        text-align: right;\n",
       "    }\n",
       "</style>\n",
       "<table border=\"1\" class=\"dataframe\">\n",
       "  <thead>\n",
       "    <tr style=\"text-align: right;\">\n",
       "      <th></th>\n",
       "      <th>USD</th>\n",
       "      <th>EUR</th>\n",
       "      <th>JPY</th>\n",
       "      <th>GBP</th>\n",
       "      <th>CHF</th>\n",
       "      <th>CAD</th>\n",
       "      <th>AUD</th>\n",
       "      <th>HKD</th>\n",
       "    </tr>\n",
       "  </thead>\n",
       "  <tbody>\n",
       "    <tr>\n",
       "      <th>Money totals</th>\n",
       "      <td>454.277</td>\n",
       "      <td>379.96</td>\n",
       "      <td>50593.59</td>\n",
       "      <td>336.338</td>\n",
       "      <td>444.326</td>\n",
       "      <td>570.034</td>\n",
       "      <td>579.667</td>\n",
       "      <td>3553.307</td>\n",
       "    </tr>\n",
       "  </tbody>\n",
       "</table>\n",
       "</div>"
      ],
      "text/plain": [
       "                  USD     EUR       JPY      GBP      CHF      CAD      AUD  \\\n",
       "Money totals  454.277  379.96  50593.59  336.338  444.326  570.034  579.667   \n",
       "\n",
       "                   HKD  \n",
       "Money totals  3553.307  "
      ]
     },
     "execution_count": 12,
     "metadata": {},
     "output_type": "execute_result"
    }
   ],
   "source": [
    "money_total_df = pd.DataFrame(data=money_total, index=currency_label, columns=[\"Money totals\"])\n",
    "money_total_df.T"
   ]
  },
  {
   "cell_type": "code",
   "execution_count": null,
   "metadata": {},
   "outputs": [],
   "source": []
  },
  {
   "cell_type": "code",
   "execution_count": null,
   "metadata": {},
   "outputs": [],
   "source": []
  },
  {
   "cell_type": "code",
   "execution_count": null,
   "metadata": {},
   "outputs": [],
   "source": []
  },
  {
   "cell_type": "code",
   "execution_count": null,
   "metadata": {},
   "outputs": [],
   "source": []
  },
  {
   "cell_type": "code",
   "execution_count": null,
   "metadata": {},
   "outputs": [],
   "source": []
  },
  {
   "cell_type": "code",
   "execution_count": null,
   "metadata": {},
   "outputs": [],
   "source": []
  },
  {
   "cell_type": "code",
   "execution_count": null,
   "metadata": {},
   "outputs": [],
   "source": []
  },
  {
   "cell_type": "code",
   "execution_count": null,
   "metadata": {},
   "outputs": [],
   "source": []
  },
  {
   "cell_type": "code",
   "execution_count": null,
   "metadata": {},
   "outputs": [],
   "source": []
  }
 ],
 "metadata": {
  "kernelspec": {
   "display_name": "Python 3",
   "language": "python",
   "name": "python3"
  },
  "language_info": {
   "codemirror_mode": {
    "name": "ipython",
    "version": 3
   },
   "file_extension": ".py",
   "mimetype": "text/x-python",
   "name": "python",
   "nbconvert_exporter": "python",
   "pygments_lexer": "ipython3",
   "version": "3.8.3"
  }
 },
 "nbformat": 4,
 "nbformat_minor": 4
}
